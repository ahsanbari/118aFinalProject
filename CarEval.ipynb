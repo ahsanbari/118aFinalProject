{
 "cells": [
  {
   "cell_type": "code",
   "execution_count": 23,
   "metadata": {},
   "outputs": [],
   "source": [
    "import pandas as pd\n",
    "import matplotlib.pyplot as plt\n",
    "import numpy as np\n",
    "import seaborn as sns\n",
    "from sklearn import tree\n",
    "from sklearn.model_selection import GridSearchCV\n",
    "from sklearn.tree import DecisionTreeClassifier\n",
    "from sklearn.neighbors import KNeighborsClassifier\n",
    "from sklearn.linear_model import LogisticRegression\n",
    "from sklearn.svm import LinearSVC, SVC\n",
    "from sklearn.preprocessing import LabelEncoder"
   ]
  },
  {
   "cell_type": "markdown",
   "metadata": {},
   "source": [
    "# Load Data"
   ]
  },
  {
   "cell_type": "code",
   "execution_count": 2,
   "metadata": {},
   "outputs": [
    {
     "data": {
      "text/html": [
       "<div>\n",
       "<style scoped>\n",
       "    .dataframe tbody tr th:only-of-type {\n",
       "        vertical-align: middle;\n",
       "    }\n",
       "\n",
       "    .dataframe tbody tr th {\n",
       "        vertical-align: top;\n",
       "    }\n",
       "\n",
       "    .dataframe thead th {\n",
       "        text-align: right;\n",
       "    }\n",
       "</style>\n",
       "<table border=\"1\" class=\"dataframe\">\n",
       "  <thead>\n",
       "    <tr style=\"text-align: right;\">\n",
       "      <th></th>\n",
       "      <th>buying</th>\n",
       "      <th>maint</th>\n",
       "      <th>doors</th>\n",
       "      <th>persons</th>\n",
       "      <th>lug_boot</th>\n",
       "      <th>safety</th>\n",
       "      <th>acceptability</th>\n",
       "    </tr>\n",
       "  </thead>\n",
       "  <tbody>\n",
       "    <tr>\n",
       "      <th>0</th>\n",
       "      <td>vhigh</td>\n",
       "      <td>vhigh</td>\n",
       "      <td>2</td>\n",
       "      <td>2</td>\n",
       "      <td>small</td>\n",
       "      <td>low</td>\n",
       "      <td>unacc</td>\n",
       "    </tr>\n",
       "    <tr>\n",
       "      <th>1</th>\n",
       "      <td>vhigh</td>\n",
       "      <td>vhigh</td>\n",
       "      <td>2</td>\n",
       "      <td>2</td>\n",
       "      <td>small</td>\n",
       "      <td>med</td>\n",
       "      <td>unacc</td>\n",
       "    </tr>\n",
       "    <tr>\n",
       "      <th>2</th>\n",
       "      <td>vhigh</td>\n",
       "      <td>vhigh</td>\n",
       "      <td>2</td>\n",
       "      <td>2</td>\n",
       "      <td>small</td>\n",
       "      <td>high</td>\n",
       "      <td>unacc</td>\n",
       "    </tr>\n",
       "    <tr>\n",
       "      <th>3</th>\n",
       "      <td>vhigh</td>\n",
       "      <td>vhigh</td>\n",
       "      <td>2</td>\n",
       "      <td>2</td>\n",
       "      <td>med</td>\n",
       "      <td>low</td>\n",
       "      <td>unacc</td>\n",
       "    </tr>\n",
       "    <tr>\n",
       "      <th>4</th>\n",
       "      <td>vhigh</td>\n",
       "      <td>vhigh</td>\n",
       "      <td>2</td>\n",
       "      <td>2</td>\n",
       "      <td>med</td>\n",
       "      <td>med</td>\n",
       "      <td>unacc</td>\n",
       "    </tr>\n",
       "  </tbody>\n",
       "</table>\n",
       "</div>"
      ],
      "text/plain": [
       "  buying  maint doors persons lug_boot safety acceptability\n",
       "0  vhigh  vhigh     2       2    small    low         unacc\n",
       "1  vhigh  vhigh     2       2    small    med         unacc\n",
       "2  vhigh  vhigh     2       2    small   high         unacc\n",
       "3  vhigh  vhigh     2       2      med    low         unacc\n",
       "4  vhigh  vhigh     2       2      med    med         unacc"
      ]
     },
     "execution_count": 2,
     "metadata": {},
     "output_type": "execute_result"
    }
   ],
   "source": [
    "col = ['buying', 'maint', 'doors', 'persons','lug_boot','safety','acceptability']\n",
    "df = pd.read_csv('carData.csv', names = col)\n",
    "df.head()"
   ]
  },
  {
   "cell_type": "code",
   "execution_count": 3,
   "metadata": {},
   "outputs": [
    {
     "data": {
      "text/html": [
       "<div>\n",
       "<style scoped>\n",
       "    .dataframe tbody tr th:only-of-type {\n",
       "        vertical-align: middle;\n",
       "    }\n",
       "\n",
       "    .dataframe tbody tr th {\n",
       "        vertical-align: top;\n",
       "    }\n",
       "\n",
       "    .dataframe thead th {\n",
       "        text-align: right;\n",
       "    }\n",
       "</style>\n",
       "<table border=\"1\" class=\"dataframe\">\n",
       "  <thead>\n",
       "    <tr style=\"text-align: right;\">\n",
       "      <th></th>\n",
       "      <th>buying</th>\n",
       "      <th>maint</th>\n",
       "      <th>doors</th>\n",
       "      <th>persons</th>\n",
       "      <th>lug_boot</th>\n",
       "      <th>safety</th>\n",
       "      <th>acceptability</th>\n",
       "    </tr>\n",
       "  </thead>\n",
       "  <tbody>\n",
       "    <tr>\n",
       "      <th>0</th>\n",
       "      <td>3</td>\n",
       "      <td>3</td>\n",
       "      <td>0</td>\n",
       "      <td>0</td>\n",
       "      <td>2</td>\n",
       "      <td>1</td>\n",
       "      <td>2</td>\n",
       "    </tr>\n",
       "    <tr>\n",
       "      <th>1</th>\n",
       "      <td>3</td>\n",
       "      <td>3</td>\n",
       "      <td>0</td>\n",
       "      <td>0</td>\n",
       "      <td>2</td>\n",
       "      <td>2</td>\n",
       "      <td>2</td>\n",
       "    </tr>\n",
       "    <tr>\n",
       "      <th>2</th>\n",
       "      <td>3</td>\n",
       "      <td>3</td>\n",
       "      <td>0</td>\n",
       "      <td>0</td>\n",
       "      <td>2</td>\n",
       "      <td>0</td>\n",
       "      <td>2</td>\n",
       "    </tr>\n",
       "    <tr>\n",
       "      <th>3</th>\n",
       "      <td>3</td>\n",
       "      <td>3</td>\n",
       "      <td>0</td>\n",
       "      <td>0</td>\n",
       "      <td>1</td>\n",
       "      <td>1</td>\n",
       "      <td>2</td>\n",
       "    </tr>\n",
       "    <tr>\n",
       "      <th>4</th>\n",
       "      <td>3</td>\n",
       "      <td>3</td>\n",
       "      <td>0</td>\n",
       "      <td>0</td>\n",
       "      <td>1</td>\n",
       "      <td>2</td>\n",
       "      <td>2</td>\n",
       "    </tr>\n",
       "  </tbody>\n",
       "</table>\n",
       "</div>"
      ],
      "text/plain": [
       "   buying  maint  doors  persons  lug_boot  safety  acceptability\n",
       "0       3      3      0        0         2       1              2\n",
       "1       3      3      0        0         2       2              2\n",
       "2       3      3      0        0         2       0              2\n",
       "3       3      3      0        0         1       1              2\n",
       "4       3      3      0        0         1       2              2"
      ]
     },
     "execution_count": 3,
     "metadata": {},
     "output_type": "execute_result"
    }
   ],
   "source": [
    "#encode qual data to quant\n",
    "label = LabelEncoder()\n",
    "df['buying'] = label.fit_transform(df['buying'])\n",
    "df['maint'] = label.fit_transform(df['maint'])\n",
    "df['doors'] = label.fit_transform(df['doors'])\n",
    "df['persons'] = label.fit_transform(df['persons'])\n",
    "df['lug_boot'] = label.fit_transform(df['lug_boot'])\n",
    "df['safety'] = label.fit_transform(df['safety'])\n",
    "df['acceptability'] = label.fit_transform(df['acceptability'])\n",
    "df.head()"
   ]
  },
  {
   "cell_type": "code",
   "execution_count": 4,
   "metadata": {},
   "outputs": [
    {
     "name": "stdout",
     "output_type": "stream",
     "text": [
      "(1728, 6)\n",
      "(1728,)\n"
     ]
    }
   ],
   "source": [
    "X_and_Y = df.values\n",
    "np.random.shuffle(X_and_Y)\n",
    "X = X_and_Y[:,1:]\n",
    "Y = X_and_Y[:,0]\n",
    "\n",
    "print(X.shape)\n",
    "print(Y.shape)"
   ]
  },
  {
   "cell_type": "code",
   "execution_count": 5,
   "metadata": {},
   "outputs": [
    {
     "name": "stdout",
     "output_type": "stream",
     "text": [
      "(345, 6) (1383, 6) (345,) (1383,)\n",
      "(864, 6) (864, 6) (864,) (864,)\n",
      "(1382, 6) (346, 6) (1382,) (346,)\n"
     ]
    }
   ],
   "source": [
    "#establish training and test data in 20/50/80 partition\n",
    "\n",
    "#1 = 0.2\n",
    "#2 = 0.5\n",
    "#3 = 0.8\n",
    "\n",
    "X_train1 = X[:int(0.2*len(X))]\n",
    "X_test1 = X[int(0.2*len(X)):]\n",
    "\n",
    "Y_train1 = Y[:int(0.2*len(Y))]\n",
    "Y_test1 = Y[int(0.2*len(Y)):]\n",
    "\n",
    "print(X_train1.shape, X_test1.shape, Y_train1.shape, Y_test1.shape)\n",
    "\n",
    "\n",
    "X_train2 = X[:int(0.5*len(X))]\n",
    "X_test2 = X[int(0.5*len(X)):]\n",
    "\n",
    "Y_train2 = Y[:int(0.5*len(Y))]\n",
    "Y_test2 = Y[int(0.5*len(Y)):]\n",
    "\n",
    "print(X_train2.shape, X_test2.shape, Y_train2.shape, Y_test2.shape)\n",
    "\n",
    "\n",
    "X_train3 = X[:int(0.8*len(X))]\n",
    "X_test3 = X[int(0.8*len(X)):]\n",
    "\n",
    "Y_train3 = Y[:int(0.8*len(Y))]\n",
    "Y_test3 = Y[int(0.8*len(Y)):]\n",
    "\n",
    "print(X_train3.shape, X_test3.shape, Y_train3.shape, Y_test3.shape)"
   ]
  },
  {
   "cell_type": "code",
   "execution_count": 6,
   "metadata": {},
   "outputs": [],
   "source": [
    "def heatmap(training_acc, gamma, C_list):\n",
    "    plt.figure(figsize = (1,5))\n",
    "    ax = sns.heatmap(training_acc, annot = True, fmt = '.3f', xticklabels = 7, yticklabels = C_list)\n",
    "    ax.collections[0].colorbar.set_label(\"Accuracy\")\n",
    "    ax.set(xlabel = '$\\gamma$', ylabel='$C$')\n",
    "    plt.title('Training Accuracy w.r.t $C$ and $\\gamma$')\n",
    "    plt.show()"
   ]
  },
  {
   "cell_type": "markdown",
   "metadata": {},
   "source": [
    "## KNN"
   ]
  },
  {
   "cell_type": "code",
   "execution_count": 7,
   "metadata": {},
   "outputs": [],
   "source": [
    "#knn classifier using train/test #1\n",
    "\n",
    "def knn(X_train,Y_train,X_test,Y_test):\n",
    "    K_list = [1,2,3,4,5,6,7]     #6 features in data\n",
    "    clf = GridSearchCV(KNeighborsClassifier(n_neighbors=6), iid= False, param_grid = {'n_neighbors':K_list}, cv = 5, return_train_score = True)\n",
    "    clf.fit(X_train,Y_train)\n",
    "    \n",
    "    heatmap(clf.cv_results_['mean_train_score'].reshape(7,1), 'KNN Training Accuracy', K_list)\n",
    "    \n",
    "    opt_k = clf.best_params_['n_neighbors']\n",
    "    \n",
    "    clf_test = KNeighborsClassifier(n_neighbors=opt_k)\n",
    "    clf_test.fit(X_train,Y_train)\n",
    "    \n",
    "    knn_accuracy = clf_test.score(X_test,Y_test)\n",
    "    training_acc = clf.cv_results_['mean_train_score']\n",
    "    for x,y in enumerate(K_list):\n",
    "        if y == opt_k:\n",
    "            opt_training_acc = training_acc[x]\n",
    "            \n",
    "    return knn_accuracy, opt_training_acc, opt_k"
   ]
  },
  {
   "cell_type": "code",
   "execution_count": 8,
   "metadata": {},
   "outputs": [
    {
     "data": {
      "image/png": "[encoded data removed]",
      "text/plain": [
       "<Figure size 72x360 with 2 Axes>"
      ]
     },
     "metadata": {
      "needs_background": "light"
     },
     "output_type": "display_data"
    },
    {
     "data": {
      "image/png": "[encoded data removed]",
      "text/plain": [
       "<Figure size 72x360 with 2 Axes>"
      ]
     },
     "metadata": {
      "needs_background": "light"
     },
     "output_type": "display_data"
    },
    {
     "data": {
      "image/png": "[encoded data removed]",
      "text/plain": [
       "<Figure size 72x360 with 2 Axes>"
      ]
     },
     "metadata": {
      "needs_background": "light"
     },
     "output_type": "display_data"
    }
   ],
   "source": [
    "test_acc_KNN1,best_train_KNN1,C_KNN1 = knn(X_train1,Y_train1,X_test1,Y_test1)\n",
    "test_acc_KNN2,best_train_KNN2,C_KNN2 = knn(X_train2,Y_train2,X_test2,Y_test2)\n",
    "test_acc_KNN3,best_train_KNN3,C_KNN3 = knn(X_train3,Y_train3,X_test3,Y_test3)"
   ]
  },
  {
   "cell_type": "markdown",
   "metadata": {},
   "source": [
    "## Decision Tree"
   ]
  },
  {
   "cell_type": "code",
   "execution_count": 9,
   "metadata": {},
   "outputs": [],
   "source": [
    "def decisionTree(X_train,Y_train,X_test,Y_test):\n",
    "    D_list = [1,2,3,4,5,6,7]\n",
    "    \n",
    "    clf = GridSearchCV(DecisionTreeClassifier(criterion='entropy'),cv=5,iid = False, param_grid = {'max_depth':D_list}, return_train_score = True)\n",
    "    clf.fit(X_train,Y_train)\n",
    "    heatmap(clf.cv_results_['mean_train_score'].reshape(7,1),'Decision Tree Training Accuracy', D_list)\n",
    "    \n",
    "    opt_D = clf.best_params_['max_depth']\n",
    "    clf_test = DecisionTreeClassifier(max_depth=opt_D, criterion='entropy')\n",
    "    \n",
    "    clf_test.fit(X_train,Y_train)\n",
    "    \n",
    "    tree_accuracy = clf_test.score(X_test,Y_test)\n",
    "    \n",
    "    train_accuracy = clf.cv_results_['mean_train_score']\n",
    "    \n",
    "    for x,y in enumerate(D_list):\n",
    "        if y == opt_D:\n",
    "            best_train_accuracy = train_accuracy[x]\n",
    "            \n",
    "    return tree_accuracy, best_train_accuracy, opt_D"
   ]
  },
  {
   "cell_type": "code",
   "execution_count": 10,
   "metadata": {},
   "outputs": [
    {
     "data": {
      "image/png": "[encoded data removed]",
      "text/plain": [
       "<Figure size 72x360 with 2 Axes>"
      ]
     },
     "metadata": {
      "needs_background": "light"
     },
     "output_type": "display_data"
    },
    {
     "data": {
      "image/png": "[encoded data removed]",
      "text/plain": [
       "<Figure size 72x360 with 2 Axes>"
      ]
     },
     "metadata": {
      "needs_background": "light"
     },
     "output_type": "display_data"
    },
    {
     "data": {
      "image/png": "[encoded data removed]",
      "text/plain": [
       "<Figure size 72x360 with 2 Axes>"
      ]
     },
     "metadata": {
      "needs_background": "light"
     },
     "output_type": "display_data"
    }
   ],
   "source": [
    "tree_acc1, tree_train_acc1, opt_D1 = decisionTree(X_train1,Y_train1,X_test1,Y_test1)\n",
    "tree_acc2, tree_train_acc2, opt_D2 = decisionTree(X_train2,Y_train2,X_test2,Y_test2)\n",
    "tree_acc3, tree_train_acc3, opt_D3 = decisionTree(X_train3,Y_train3,X_test3,Y_test3)"
   ]
  },
  {
   "cell_type": "markdown",
   "metadata": {},
   "source": [
    "## Linear SVM"
   ]
  },
  {
   "cell_type": "code",
   "execution_count": 48,
   "metadata": {},
   "outputs": [],
   "source": [
    "def svm(X_train,Y_train,X_test,Y_test):\n",
    "    #C_list = [10**-5, 10**-4, 10**-3, 10**-2, 10**-1, 1,10]\n",
    "    C_list = [1,2,3,4,5,6,7]\n",
    "    #gamma_list = [1e-6, 1e-5, 1e-4, 1e-3, 1e-2]\n",
    "    svc = SVC(C= C_list, gamma = 'auto', kernel = 'linear', max_iter = 100000)\n",
    "    clf = GridSearchCV(svc, cv=5, iid=False, param_grid={'C':C_list}, return_train_score = True)\n",
    "\n",
    "    \n",
    "    #clf = GridSearchCV(LinearSVC(max_iter = 1000000), cv=5, iid=False, param_grid={'C':C_list}, return_train_score = True)\n",
    "    \n",
    "    clf.fit(X_train,Y_train)\n",
    "    \n",
    "    train_accuracy = clf.cv_results_['mean_train_score']\n",
    "    heatmap(train_accuracy.reshape(7,1), 'SVM Training Accuracy', C_list)\n",
    "    opt_C = clf.best_params_['C']\n",
    "    clf_test = SVC(C = opt_C, gamma = 'auto', kernel='linear')\n",
    "    \n",
    "    clf_test.fit(X_train,Y_train)\n",
    "    \n",
    "    svm_accuracy = clf_test.score(X_test,Y_test)\n",
    "    train_accuracy = clf.cv_results_['mean_train_score']\n",
    "    \n",
    "    for x,y in enumerate(C_list):\n",
    "        if y == opt_C:\n",
    "            best_train_accuracy = train_accuracy[x]\n",
    "            \n",
    "    return svm_accuracy, best_train_accuracy, opt_C"
   ]
  },
  {
   "cell_type": "code",
   "execution_count": 49,
   "metadata": {
    "scrolled": false
   },
   "outputs": [
    {
     "data": {
      "image/png": "[encoded data removed]",
      "text/plain": [
       "<Figure size 72x360 with 2 Axes>"
      ]
     },
     "metadata": {
      "needs_background": "light"
     },
     "output_type": "display_data"
    },
    {
     "data": {
      "image/png": "[encoded data removed]",
      "text/plain": [
       "<Figure size 72x360 with 2 Axes>"
      ]
     },
     "metadata": {
      "needs_background": "light"
     },
     "output_type": "display_data"
    },
    {
     "data": {
      "image/png": "[encoded data removed]",
      "text/plain": [
       "<Figure size 72x360 with 2 Axes>"
      ]
     },
     "metadata": {
      "needs_background": "light"
     },
     "output_type": "display_data"
    }
   ],
   "source": [
    "svm_acc1, svm_train_acc1, opt_c1 = svm(X_train1,Y_train1,X_test1,Y_test1)\n",
    "svm_acc2, svm_train_acc2, opt_c2 = svm(X_train2,Y_train2,X_test2,Y_test2)\n",
    "svm_acc3, svm_train_acc3, opt_c3 = svm(X_train3,Y_train3,X_test3,Y_test3)"
   ]
  },
  {
   "cell_type": "code",
   "execution_count": 50,
   "metadata": {},
   "outputs": [],
   "source": [
    "d = {'Classifier Accuracy':[test_acc_KNN1,test_acc_KNN2,test_acc_KNN3,tree_acc1,tree_acc2,tree_acc3,svm_acc1,svm_acc2,svm_acc3],\n",
    "     'Best Training Accuracy':[best_train_KNN1,best_train_KNN2,best_train_KNN3,tree_train_acc1,tree_train_acc2,tree_train_acc3,svm_train_acc1,svm_train_acc2,svm_train_acc3],\n",
    "     'Optimal Feature':[C_KNN1,C_KNN2,C_KNN3,opt_D1,opt_D2,opt_D3,opt_c1,opt_c2,opt_c3]}\n",
    "\n",
    "results = pd.DataFrame(data = d)\n"
   ]
  },
  {
   "cell_type": "code",
   "execution_count": 51,
   "metadata": {},
   "outputs": [],
   "source": [
    "#results.index = {'KNN 20/80','KNN 50/50', 'KNN 80/20', 'Decision Tree 20/80', 'Decision Tree 50/50', 'Decision Tree 80/20', 'SVM 20/80', 'SVM 50/50', 'SVM 80/20'}\n",
    "\n",
    "results.rename(index={0:'KNN 20/80'},inplace=True)\n",
    "results.rename(index={1:'KNN 50/50'},inplace=True)\n",
    "results.rename(index={2:'KNN 80/20'},inplace=True)\n",
    "\n",
    "results.rename(index={3:'Decision Tree 20/80'},inplace=True)\n",
    "results.rename(index={4:'Decision Tree 50/50'},inplace=True)\n",
    "results.rename(index={5:'Decision Tree 80/20'},inplace=True)\n",
    "\n",
    "results.rename(index={6:'SVM 20/80'},inplace=True)\n",
    "results.rename(index={7:'SVM 50/50'},inplace=True)\n",
    "results.rename(index={8:'SVM 80/20'},inplace=True)\n",
    "\n"
   ]
  },
  {
   "cell_type": "code",
   "execution_count": 52,
   "metadata": {},
   "outputs": [
    {
     "data": {
      "text/html": [
       "<div>\n",
       "<style scoped>\n",
       "    .dataframe tbody tr th:only-of-type {\n",
       "        vertical-align: middle;\n",
       "    }\n",
       "\n",
       "    .dataframe tbody tr th {\n",
       "        vertical-align: top;\n",
       "    }\n",
       "\n",
       "    .dataframe thead th {\n",
       "        text-align: right;\n",
       "    }\n",
       "</style>\n",
       "<table border=\"1\" class=\"dataframe\">\n",
       "  <thead>\n",
       "    <tr style=\"text-align: right;\">\n",
       "      <th></th>\n",
       "      <th>Classifier Accuracy</th>\n",
       "      <th>Best Training Accuracy</th>\n",
       "      <th>Optimal Feature</th>\n",
       "    </tr>\n",
       "  </thead>\n",
       "  <tbody>\n",
       "    <tr>\n",
       "      <th>KNN 20/80</th>\n",
       "      <td>0.266088</td>\n",
       "      <td>0.459408</td>\n",
       "      <td>6</td>\n",
       "    </tr>\n",
       "    <tr>\n",
       "      <th>KNN 50/50</th>\n",
       "      <td>0.218750</td>\n",
       "      <td>0.473658</td>\n",
       "      <td>6</td>\n",
       "    </tr>\n",
       "    <tr>\n",
       "      <th>KNN 80/20</th>\n",
       "      <td>0.164740</td>\n",
       "      <td>0.416964</td>\n",
       "      <td>7</td>\n",
       "    </tr>\n",
       "    <tr>\n",
       "      <th>Decision Tree 20/80</th>\n",
       "      <td>0.292842</td>\n",
       "      <td>0.391279</td>\n",
       "      <td>4</td>\n",
       "    </tr>\n",
       "    <tr>\n",
       "      <th>Decision Tree 50/50</th>\n",
       "      <td>0.315972</td>\n",
       "      <td>0.370651</td>\n",
       "      <td>4</td>\n",
       "    </tr>\n",
       "    <tr>\n",
       "      <th>Decision Tree 80/20</th>\n",
       "      <td>0.300578</td>\n",
       "      <td>0.356727</td>\n",
       "      <td>4</td>\n",
       "    </tr>\n",
       "    <tr>\n",
       "      <th>SVM 20/80</th>\n",
       "      <td>0.272596</td>\n",
       "      <td>0.340642</td>\n",
       "      <td>4</td>\n",
       "    </tr>\n",
       "    <tr>\n",
       "      <th>SVM 50/50</th>\n",
       "      <td>0.266204</td>\n",
       "      <td>0.290213</td>\n",
       "      <td>7</td>\n",
       "    </tr>\n",
       "    <tr>\n",
       "      <th>SVM 80/20</th>\n",
       "      <td>0.254335</td>\n",
       "      <td>0.283656</td>\n",
       "      <td>6</td>\n",
       "    </tr>\n",
       "  </tbody>\n",
       "</table>\n",
       "</div>"
      ],
      "text/plain": [
       "                     Classifier Accuracy  Best Training Accuracy  \\\n",
       "KNN 20/80                       0.266088                0.459408   \n",
       "KNN 50/50                       0.218750                0.473658   \n",
       "KNN 80/20                       0.164740                0.416964   \n",
       "Decision Tree 20/80             0.292842                0.391279   \n",
       "Decision Tree 50/50             0.315972                0.370651   \n",
       "Decision Tree 80/20             0.300578                0.356727   \n",
       "SVM 20/80                       0.272596                0.340642   \n",
       "SVM 50/50                       0.266204                0.290213   \n",
       "SVM 80/20                       0.254335                0.283656   \n",
       "\n",
       "                     Optimal Feature  \n",
       "KNN 20/80                          6  \n",
       "KNN 50/50                          6  \n",
       "KNN 80/20                          7  \n",
       "Decision Tree 20/80                4  \n",
       "Decision Tree 50/50                4  \n",
       "Decision Tree 80/20                4  \n",
       "SVM 20/80                          4  \n",
       "SVM 50/50                          7  \n",
       "SVM 80/20                          6  "
      ]
     },
     "execution_count": 52,
     "metadata": {},
     "output_type": "execute_result"
    }
   ],
   "source": [
    "results"
   ]
  },
  {
   "cell_type": "code",
   "execution_count": null,
   "metadata": {},
   "outputs": [],
   "source": []
  }
 ],
 "metadata": {
  "kernelspec": {
   "display_name": "Python 3",
   "language": "python",
   "name": "python3"
  },
  "language_info": {
   "codemirror_mode": {
    "name": "ipython",
    "version": 3
   },
   "file_extension": ".py",
   "mimetype": "text/x-python",
   "name": "python",
   "nbconvert_exporter": "python",
   "pygments_lexer": "ipython3",
   "version": "3.7.1"
  }
 },
 "nbformat": 4,
 "nbformat_minor": 2
}
